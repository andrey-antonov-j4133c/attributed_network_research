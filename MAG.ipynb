{
 "metadata": {
  "language_info": {
   "codemirror_mode": {
    "name": "ipython",
    "version": 3
   },
   "file_extension": ".py",
   "mimetype": "text/x-python",
   "name": "python",
   "nbconvert_exporter": "python",
   "pygments_lexer": "ipython3",
   "version": "3.8.5"
  },
  "orig_nbformat": 2,
  "kernelspec": {
   "name": "python385jvsc74a57bd02569654758497ea0148171e06cb07ecd9ac26e5685a9906bf4fb435b79c473d4",
   "display_name": "Python 3.8.5 64-bit ('base': conda)"
  }
 },
 "nbformat": 4,
 "nbformat_minor": 2,
 "cells": [
  {
   "cell_type": "code",
   "execution_count": 1,
   "metadata": {},
   "outputs": [],
   "source": [
    "# variables\n",
    "DATA_PATH = 'data/raw/'\n",
    "\n",
    "CONVERTED_DATA_PATH = 'data/magfit/'\n",
    "MAGFIT_RES_PATH = 'results/magfit/'\n",
    "MAGGEN_RES_PATH = 'results/maggen/'\n",
    "\n",
    "MAG_RES_PATH = 'results/mag/'"
   ]
  },
  {
   "cell_type": "code",
   "execution_count": 2,
   "metadata": {},
   "outputs": [],
   "source": [
    "import networkx as nx\n",
    "import numpy as np\n",
    "from scipy.sparse import csr_matrix\n",
    "import utils.project_utils as p_utils\n",
    "import os\n",
    "import subprocess"
   ]
  },
  {
   "cell_type": "code",
   "execution_count": 3,
   "metadata": {},
   "outputs": [],
   "source": [
    "#datasets = ['polblogs', 'citeseer', 'cora', 'cora_ml', 'pubmed']\n",
    "datasets = ['polblogs']"
   ]
  },
  {
   "cell_type": "code",
   "execution_count": 4,
   "metadata": {},
   "outputs": [
    {
     "output_type": "stream",
     "name": "stdout",
     "text": [
      "Creation of the directory data/magfit/polblogs/ failed\n"
     ]
    }
   ],
   "source": [
    "# prepare data for MAGFIT\n",
    "for dataset in datasets:\n",
    "    path = f'{DATA_PATH}/{dataset}.npz'\n",
    "    data = p_utils.open_npz(path)\n",
    "\n",
    "    matrix = csr_matrix((data['adj_data'], data['adj_indices'], data['adj_indptr']))\n",
    "    shape = matrix.shape\n",
    "\n",
    "    while shape[0] > shape[1]:\n",
    "        matrix._shape = (shape[0], shape[1]+1)\n",
    "        matrix.indptr = np.hstack((matrix.indptr,matrix.indptr[-1]))\n",
    "        shape = matrix.shape\n",
    "\n",
    "    G = nx.convert_matrix.from_scipy_sparse_matrix(matrix)\n",
    "    n_of_attrs = data['attr_shape'][1]\n",
    "\n",
    "    p_utils.prepare_magfit_input_data(dataset, CONVERTED_DATA_PATH, G, n_of_attrs)\n",
    "    "
   ]
  },
  {
   "cell_type": "code",
   "execution_count": 5,
   "metadata": {
    "tags": []
   },
   "outputs": [
    {
     "output_type": "stream",
     "name": "stdout",
     "text": [
      "Creation of the directory results/magfit/polblogs/ failed\nmag_algs/magfit -i:/Users/andrejantonov/Google\\ Диск/Учеба/НИР,\\ Антонов\\ Андрей,\\ J4133c/Experiments/data/magfit/polblogs/graph.txt -pi:/Users/andrejantonov/Google\\ Диск/Учеба/НИР,\\ Антонов\\ Андрей,\\ J4133c/Experiments/data/magfit/polblogs/inti.config -o:/Users/andrejantonov/Google\\ Диск/Учеба/НИР,\\ Антонов\\ Андрей,\\ J4133c/Experiments/results/magfit/polblogs/polblogs.txt -fe:F -fm:F\n\n\n\n"
     ]
    }
   ],
   "source": [
    "# MAGFIT command generation\n",
    "for dataset in datasets:\n",
    "    input = os.path.abspath(f'{CONVERTED_DATA_PATH}{dataset}/graph.txt').replace(' ', '\\ ')\n",
    "    config = os.path.abspath(f'{CONVERTED_DATA_PATH}{dataset}/inti.config').replace(' ', '\\ ')\n",
    "    output = p_utils.prepare_mag_result_file(MAGFIT_RES_PATH, dataset)\n",
    "    output = os.path.abspath(output).replace(' ', '\\ ')\n",
    "\n",
    "    command = f'mag_algs/magfit -i:{input} -pi:{config} -o:{output} -fe:F -fm:F'\n",
    "    print(command)\n",
    "    print('\\n\\n')"
   ]
  },
  {
   "cell_type": "code",
   "execution_count": 6,
   "metadata": {},
   "outputs": [
    {
     "output_type": "stream",
     "name": "stdout",
     "text": [
      "Successfully created the directory results/maggen/polblogs/ \nmag_algs/maggen -i:/Users/andrejantonov/Google\\ Диск/Учеба/НИР,\\ Антонов\\ Андрей,\\ J4133c/Experiments/data/magfit/polblogs/inti.config -o:/Users/andrejantonov/Google\\ Диск/Учеба/НИР,\\ Антонов\\ Андрей,\\ J4133c/Experiments/results/maggen/polblogs/polblogs.txt -n:3000 -simple:\"F\"\n\n\n\n"
     ]
    }
   ],
   "source": [
    "# MAGGEN command generation\n",
    "for dataset in datasets:\n",
    "    n_of_nodes = 3000\n",
    "    output = p_utils.prepare_mag_result_file(MAGGEN_RES_PATH, dataset)\n",
    "    output = os.path.abspath(output).replace(' ', '\\ ')\n",
    "    simple = False\n",
    "    conf_file = os.path.abspath(f'{CONVERTED_DATA_PATH}{dataset}/inti.config').replace(' ', '\\ ')\n",
    "\n",
    "    command = f'mag_algs/maggen -i:{conf_file} -o:{output} -n:{n_of_nodes} -simple:\"F\"' if not simple else f'mag_algs/maggen -o:{output} -n:{n_of_nodes}'\n",
    "    print(command)\n",
    "    print('\\n\\n')\n"
   ]
  },
  {
   "cell_type": "code",
   "execution_count": 8,
   "metadata": {
    "tags": []
   },
   "outputs": [
    {
     "output_type": "stream",
     "name": "stdout",
     "text": [
      "Successfully created the directory results/mag/polblogs/ \n",
      "Creation of the directory results/mag/polblogs/ failed\n"
     ]
    }
   ],
   "source": [
    "# Converting result files to networkx format\n",
    "\n",
    "for dataset in ['polblogs']:\n",
    "    structure_file = p_utils.get_mag_result_file(MAGGEN_RES_PATH, dataset)\n",
    "    features_file = p_utils.get_mag_result_file(MAGFIT_RES_PATH, dataset) + 'f'\n",
    "\n",
    "    struct = open(structure_file, 'r')\n",
    "    features = open(features_file, 'r')\n",
    "\n",
    "    p_utils.save_mag_fetures(features, f'{MAG_RES_PATH}{dataset}/', 'Features.csv')\n",
    "\n",
    "    struct_arr = []\n",
    "\n",
    "    G = nx.Graph()\n",
    "\n",
    "    for row in struct:\n",
    "        if row[0] == '#': continue\n",
    "        nodes = row.split('\\t')\n",
    "        G.add_edge(int(nodes[0]), int(nodes[1][:len(nodes[1])-1]))\n",
    "    \n",
    "    p_utils.save_graph(G, f'{MAG_RES_PATH}{dataset}/', '/G.csv')"
   ]
  },
  {
   "cell_type": "code",
   "execution_count": null,
   "metadata": {},
   "outputs": [],
   "source": []
  }
 ]
}