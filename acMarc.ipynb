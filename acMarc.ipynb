{
 "metadata": {
  "language_info": {
   "codemirror_mode": {
    "name": "ipython",
    "version": 3
   },
   "file_extension": ".py",
   "mimetype": "text/x-python",
   "name": "python",
   "nbconvert_exporter": "python",
   "pygments_lexer": "ipython3",
   "version": "3.8.5"
  },
  "orig_nbformat": 2,
  "kernelspec": {
   "name": "python385jvsc74a57bd02569654758497ea0148171e06cb07ecd9ac26e5685a9906bf4fb435b79c473d4",
   "display_name": "Python 3.8.5 64-bit ('base': conda)"
  }
 },
 "nbformat": 4,
 "nbformat_minor": 2,
 "cells": [
  {
   "cell_type": "code",
   "execution_count": 1,
   "metadata": {},
   "outputs": [],
   "source": [
    "# variables\n",
    "DATA_PATH = 'data/raw/'\n",
    "RESULT_PATH = 'results/acMark/'"
   ]
  },
  {
   "cell_type": "code",
   "execution_count": 2,
   "metadata": {},
   "outputs": [],
   "source": [
    "import methods.acMark.acmark_model as acmark\n",
    "from methods.acMark.load_dataset import load_data\n",
    "\n",
    "import networkx as nx\n",
    "import utils.project_utils as p_utils"
   ]
  },
  {
   "cell_type": "code",
   "execution_count": 3,
   "metadata": {},
   "outputs": [
    {
     "output_type": "stream",
     "name": "stdout",
     "text": [
      "Selecting 1 largest connected components\n",
      "number of nodes : 19717\n",
      "number of edges : 44324\n",
      "number of classes : 3\n",
      "class size disribution : [4098, 7846, 7773]\n",
      "finished 10%\n",
      "finished 20%\n",
      "finished 30%\n",
      "finished 40%\n",
      "finished 50%\n",
      "finished 60%\n",
      "finished 70%\n",
      "finished 80%\n",
      "finished 90%\n",
      "number of generated edges : 43853\n",
      "Successfully created the directory results/acMark/pubmed/ \n",
      "Creation of the directory results/acMark/pubmed/ failed\n"
     ]
    }
   ],
   "source": [
    "#datasets = ['citeseer', 'cora_ml', 'cora', 'polblogs', 'pubmed', 'dblp']\n",
    "#num_of_features = [602, 2879, 8710, 1, 500, 1639]\n",
    "\n",
    "datasets = ['pubmed']\n",
    "num_of_features = [500]\n",
    "\n",
    "for i, dataset in enumerate(datasets):\n",
    "    # loading the dataset\n",
    "    filename = DATA_PATH + f'{dataset}.npz'\n",
    "    S_ori,Label,n,m,k = load_data(filename)\n",
    "    # number of attributes\n",
    "    d = num_of_features[i]\n",
    "    # reproducting the original network\n",
    "    S,X,Label = acmark.acmark_reproduction(S=S_ori,Label=Label,d=d)\n",
    "    # saving the result\n",
    "    G = nx.convert_matrix.from_scipy_sparse_matrix(S)\n",
    "    p_utils.save_graph(G, RESULT_PATH + f'{dataset}/', 'G.csv')\n",
    "    p_utils.save_fetures(X, RESULT_PATH + f'{dataset}/', 'Features.csv')"
   ]
  },
  {
   "cell_type": "code",
   "execution_count": null,
   "metadata": {},
   "outputs": [],
   "source": []
  }
 ]
}