{
 "metadata": {
  "language_info": {
   "codemirror_mode": {
    "name": "ipython",
    "version": 3
   },
   "file_extension": ".py",
   "mimetype": "text/x-python",
   "name": "python",
   "nbconvert_exporter": "python",
   "pygments_lexer": "ipython3",
   "version": "3.8.5"
  },
  "orig_nbformat": 2,
  "kernelspec": {
   "name": "python385jvsc74a57bd02569654758497ea0148171e06cb07ecd9ac26e5685a9906bf4fb435b79c473d4",
   "display_name": "Python 3.8.5 64-bit ('base': conda)"
  }
 },
 "nbformat": 4,
 "nbformat_minor": 2,
 "cells": [
  {
   "cell_type": "code",
   "execution_count": 1,
   "metadata": {},
   "outputs": [],
   "source": [
    "# variables\n",
    "DATA_PATH = 'data/raw/'\n",
    "RESULT_PATH = 'results/cabam/'"
   ]
  },
  {
   "cell_type": "code",
   "execution_count": 2,
   "metadata": {},
   "outputs": [],
   "source": [
    "import numpy as np\n",
    "import networkx as nx\n",
    "import matplotlib.pyplot as plt\n",
    "import scipy.sparse as sp\n",
    "from collections import Counter\n",
    "import logging\n",
    "from tqdm.notebook import tqdm\n",
    "import powerlaw\n",
    "import pickle\n",
    "import os\n",
    "\n",
    "from methods.cabam.graph_preprocessing_utils import *\n",
    "from methods.cabam.graph_summary_utils import *\n",
    "from methods.cabam.cabam_utils import *\n",
    "\n",
    "import utils.project_utils as p_utils"
   ]
  },
  {
   "cell_type": "code",
   "execution_count": 3,
   "metadata": {},
   "outputs": [],
   "source": [
    "def cabam_load_data(dataset='polblogs'):\n",
    "  \"\"\"\n",
    "  Loads data from .npz formatted file\n",
    "\n",
    "\n",
    "  A -- Adjacency\n",
    "  H -- Features\n",
    "  y -- Labels\n",
    "  G -- Networkx graph\n",
    "  c -- Number of classes\n",
    "  assortativity -- overall assortativity statistic\n",
    "  \"\"\"\n",
    "\n",
    "  A, H, y, G = produce_processed_data(dataset, DATA_PATH)\n",
    "\n",
    "  # summary info of the dataset\n",
    "  dataset_summary(A, H)\n",
    "  c = len(np.unique(y))\n",
    "  print(f'Number of classes: {c}')\n",
    "\n",
    "  assortativity = overall_label_assortativity(G, y)\n",
    "\n",
    "  return A, H, y, G, c, assortativity"
   ]
  },
  {
   "cell_type": "code",
   "execution_count": 4,
   "metadata": {},
   "outputs": [],
   "source": [
    "def cabam_plot_summary(A, y, G, c, dataset_name):\n",
    "  # generate boxplot of assortativity vs. degree\n",
    "  degs, assortativities = plot_degree_label_assortativity(G, y, bins=10, dataset=dataset_name)\n",
    "\n",
    "  # generate overall assortativity statistic\n",
    "  assortativity = overall_label_assortativity(G, y)\n",
    "\n",
    "  # plot node-level assortativity\n",
    "  plot_node_level_assortativity(G, y, dataset=dataset_name)\n",
    "\n",
    "  # plot degree distribution\n",
    "  plot_degree_distribution(A, dataset=dataset_name)\n",
    "\n",
    "  # plot label homophily varying over degrees\n",
    "  plot_degree_label_assortativity(G, y)"
   ]
  },
  {
   "cell_type": "code",
   "execution_count": 5,
   "metadata": {},
   "outputs": [],
   "source": [
    "def cabam_generate_graph(c, n, p_c):\n",
    "  \"\"\"\n",
    "  Generates a graph structure with labels using cabam generator\n",
    "\n",
    "\n",
    "  c -- number of classes in the original graph\n",
    "  n -- number of nodes desired\n",
    "  p_c -- constant setting for fixed assortativity constant p_c throughout the graph\n",
    "  \"\"\"\n",
    "\n",
    "  native_probs = [1/c for _ in range(c)]\n",
    "  constant_c_probs = {1: p_c, 0: 1 - p_c}\n",
    "\n",
    "  # each node added connects to m other nodes\n",
    "  m = 10\n",
    "\n",
    "  G, node_degrees, node_labels, intra_class, inter_class, ratio_tracker, alpha_tracker = cabam_graph_generation(n=n, \n",
    "                                                                                                              m=m, \n",
    "                                                                                                              c=c, \n",
    "                                                                                                              native_probs=native_probs,\n",
    "                                                                                                              c_probs=constant_c_probs)\n",
    "  \n",
    "  return G, node_labels\n",
    "  "
   ]
  },
  {
   "cell_type": "code",
   "execution_count": 6,
   "metadata": {},
   "outputs": [],
   "source": [
    "def cabam_generate_features(c, G, y):\n",
    "  # Class-conditional feature generation\n",
    "  feature_means = np.eye(c)\n",
    "  node_features = []\n",
    "  for n_id, c_id in zip(range(len(G)), y):\n",
    "      f = np.random.multivariate_normal(mean=feature_means[c_id, :],\n",
    "                                        cov=feature_means,\n",
    "                                        size=1)\n",
    "      node_features.append(f.ravel())\n",
    "\n",
    "  node_features = np.array(node_features)\n",
    "\n",
    "  print('Generated feature matrix of shape:', node_features.shape)\n",
    "  return node_features"
   ]
  },
  {
   "cell_type": "code",
   "execution_count": 7,
   "metadata": {},
   "outputs": [
    {
     "output_type": "stream",
     "name": "stdout",
     "text": [
      "Loading dataset polblogs\n",
      "Nodes:  1490\n",
      "Edges:  35050\n",
      "Features:  2\n",
      "Number of classes: 2\n",
      "Overall assortativity: 0.9134853062345509\n",
      "/Users/andrejantonov/opt/anaconda3/lib/python3.8/site-packages/scipy/sparse/_index.py:124: SparseEfficiencyWarning: Changing the sparsity structure of a csr_matrix is expensive. lil_matrix is more efficient.\n",
      "  self._set_arrayXarray(i, j, x)\n"
     ]
    },
    {
     "output_type": "display_data",
     "data": {
      "text/plain": "HBox(children=(HTML(value=''), FloatProgress(value=0.0, max=3000.0), HTML(value='')))",
      "application/vnd.jupyter.widget-view+json": {
       "version_major": 2,
       "version_minor": 0,
       "model_id": "79ff04817ccc456ead93fa65184d49b7"
      }
     },
     "metadata": {}
    },
    {
     "output_type": "stream",
     "name": "stderr",
     "text": [
      "INFO:root:Theor. edge prob to deg k: [0.833 0.705 0.604 0.524 0.458 0.404 0.359 0.322 0.289 0.262]\n",
      "INFO:root:Empir. edge prob to deg k: [0.85  0.671 0.657 0.588 0.48  0.414 0.34  0.321 0.303 0.294]\n",
      "INFO:root:Snapshot: (4418/4910)=0.900\t Overall: 0.900\n",
      "INFO:root:Max node degree: 89\n",
      "INFO:root:Theor. edge prob to deg k: [0.833 0.705 0.604 0.524 0.458 0.404 0.359 0.322 0.289 0.262]\n",
      "INFO:root:Empir. edge prob to deg k: [0.815 0.678 0.632 0.545 0.462 0.423 0.352 0.33  0.316 0.291]\n",
      "INFO:root:Snapshot: (4533/5000)=0.907\t Overall: 0.903\n",
      "INFO:root:Max node degree: 126\n",
      "INFO:root:Theor. edge prob to deg k: [0.833 0.705 0.604 0.524 0.458 0.404 0.359 0.322 0.289 0.262]\n",
      "INFO:root:Empir. edge prob to deg k: [0.81  0.688 0.626 0.543 0.443 0.4   0.359 0.326 0.305 0.279]\n",
      "INFO:root:Snapshot: (4549/5000)=0.910\t Overall: 0.905\n",
      "INFO:root:Max node degree: 148\n",
      "INFO:root:Theor. edge prob to deg k: [0.833 0.705 0.604 0.524 0.458 0.404 0.359 0.322 0.289 0.262]\n",
      "INFO:root:Empir. edge prob to deg k: [0.814 0.696 0.618 0.538 0.444 0.4   0.357 0.321 0.296 0.261]\n",
      "INFO:root:Snapshot: (4572/5000)=0.914\t Overall: 0.908\n",
      "INFO:root:Max node degree: 168\n",
      "INFO:root:Theor. edge prob to deg k: [0.833 0.705 0.604 0.524 0.458 0.404 0.359 0.322 0.289 0.262]\n",
      "INFO:root:Empir. edge prob to deg k: [0.82  0.697 0.619 0.531 0.449 0.399 0.357 0.317 0.288 0.256]\n",
      "INFO:root:Snapshot: (4577/5000)=0.915\t Overall: 0.909\n",
      "INFO:root:Max node degree: 181\n",
      "\n",
      "Generated feature matrix of shape: (3000, 2)\n",
      "Creation of the directory results/cabam/polblogs/ failed\n",
      "Creation of the directory results/cabam/polblogs/ failed\n",
      "Loading dataset citeseer\n",
      "Nodes:  4230\n",
      "Edges:  14904.0\n",
      "Features:  602\n",
      "Number of classes: 6\n",
      "Overall assortativity: 0.9717779868297272\n"
     ]
    },
    {
     "output_type": "display_data",
     "data": {
      "text/plain": "HBox(children=(HTML(value=''), FloatProgress(value=0.0, max=3000.0), HTML(value='')))",
      "application/vnd.jupyter.widget-view+json": {
       "version_major": 2,
       "version_minor": 0,
       "model_id": "c804d1d90b064abdb60c50d3504ff6ec"
      }
     },
     "metadata": {}
    },
    {
     "output_type": "stream",
     "name": "stderr",
     "text": [
      "INFO:root:Theor. edge prob to deg k: [0.833 0.705 0.604 0.524 0.458 0.404 0.359 0.322 0.289 0.262]\n",
      "INFO:root:Empir. edge prob to deg k: [0.802 0.683 0.596 0.527 0.467 0.426 0.407 0.331 0.331 0.322]\n",
      "INFO:root:Snapshot: (3978/4910)=0.810\t Overall: 0.810\n",
      "INFO:root:Max node degree: 85\n",
      "INFO:root:Theor. edge prob to deg k: [0.833 0.705 0.604 0.524 0.458 0.404 0.359 0.322 0.289 0.262]\n",
      "INFO:root:Empir. edge prob to deg k: [0.805 0.68  0.572 0.532 0.464 0.413 0.402 0.318 0.298 0.298]\n",
      "INFO:root:Snapshot: (4372/5000)=0.874\t Overall: 0.843\n",
      "INFO:root:Max node degree: 116\n",
      "INFO:root:Theor. edge prob to deg k: [0.833 0.705 0.604 0.524 0.458 0.404 0.359 0.322 0.289 0.262]\n",
      "INFO:root:Empir. edge prob to deg k: [0.814 0.681 0.573 0.505 0.467 0.416 0.384 0.326 0.286 0.29 ]\n",
      "INFO:root:Snapshot: (4319/5000)=0.864\t Overall: 0.850\n",
      "INFO:root:Max node degree: 125\n",
      "INFO:root:Theor. edge prob to deg k: [0.833 0.705 0.604 0.524 0.458 0.404 0.359 0.322 0.289 0.262]\n",
      "INFO:root:Empir. edge prob to deg k: [0.813 0.685 0.586 0.516 0.443 0.41  0.38  0.331 0.277 0.282]\n",
      "INFO:root:Snapshot: (4357/5000)=0.871\t Overall: 0.855\n",
      "INFO:root:Max node degree: 145\n",
      "INFO:root:Theor. edge prob to deg k: [0.833 0.705 0.604 0.524 0.458 0.404 0.359 0.322 0.289 0.262]\n",
      "INFO:root:Empir. edge prob to deg k: [0.816 0.688 0.588 0.522 0.44  0.405 0.373 0.327 0.281 0.286]\n",
      "INFO:root:Snapshot: (4349/5000)=0.870\t Overall: 0.858\n",
      "INFO:root:Max node degree: 159\n",
      "\n",
      "Generated feature matrix of shape: (3000, 6)\n",
      "Creation of the directory results/cabam/citeseer/ failed\n",
      "Creation of the directory results/cabam/citeseer/ failed\n",
      "Loading dataset cora\n",
      "Nodes:  19793\n",
      "Edges:  146635.0\n",
      "Features:  8710\n",
      "Number of classes: 70\n",
      "Overall assortativity: 0.6700194678780013\n"
     ]
    },
    {
     "output_type": "display_data",
     "data": {
      "text/plain": "HBox(children=(HTML(value=''), FloatProgress(value=0.0, max=3000.0), HTML(value='')))",
      "application/vnd.jupyter.widget-view+json": {
       "version_major": 2,
       "version_minor": 0,
       "model_id": "5c8518c7502d4463b1f9c1a5890c9e50"
      }
     },
     "metadata": {}
    },
    {
     "output_type": "stream",
     "name": "stderr",
     "text": [
      "INFO:root:Theor. edge prob to deg k: [0.833 0.705 0.604 0.524 0.458 0.404 0.359 0.322 0.289 0.262]\n",
      "INFO:root:Empir. edge prob to deg k: [0.818 0.706 0.646 0.628 0.452 0.421 0.346 0.295 0.317 0.26 ]\n",
      "INFO:root:Snapshot: (130/4910)=0.026\t Overall: 0.026\n",
      "INFO:root:Max node degree: 123\n",
      "INFO:root:Theor. edge prob to deg k: [0.833 0.705 0.604 0.524 0.458 0.404 0.359 0.322 0.289 0.262]\n",
      "INFO:root:Empir. edge prob to deg k: [0.84  0.695 0.625 0.563 0.451 0.406 0.355 0.301 0.299 0.273]\n",
      "INFO:root:Snapshot: (157/5000)=0.031\t Overall: 0.029\n",
      "INFO:root:Max node degree: 178\n",
      "INFO:root:Theor. edge prob to deg k: [0.833 0.705 0.604 0.524 0.458 0.404 0.359 0.322 0.289 0.262]\n",
      "INFO:root:Empir. edge prob to deg k: [0.866 0.69  0.621 0.553 0.439 0.386 0.345 0.309 0.29  0.267]\n",
      "INFO:root:Snapshot: (149/5000)=0.030\t Overall: 0.029\n",
      "INFO:root:Max node degree: 206\n",
      "INFO:root:Theor. edge prob to deg k: [0.833 0.705 0.604 0.524 0.458 0.404 0.359 0.322 0.289 0.262]\n",
      "INFO:root:Empir. edge prob to deg k: [0.873 0.695 0.611 0.546 0.453 0.378 0.351 0.302 0.29  0.259]\n",
      "INFO:root:Snapshot: (142/5000)=0.028\t Overall: 0.029\n",
      "INFO:root:Max node degree: 241\n",
      "INFO:root:Theor. edge prob to deg k: [0.833 0.705 0.604 0.524 0.458 0.404 0.359 0.322 0.289 0.262]\n",
      "INFO:root:Empir. edge prob to deg k: [0.871 0.696 0.618 0.546 0.445 0.379 0.352 0.306 0.291 0.252]\n",
      "INFO:root:Snapshot: (141/5000)=0.028\t Overall: 0.029\n",
      "INFO:root:Max node degree: 268\n",
      "\n",
      "Generated feature matrix of shape: (3000, 70)\n",
      "Creation of the directory results/cabam/cora/ failed\n",
      "Creation of the directory results/cabam/cora/ failed\n",
      "Loading dataset cora_ml\n",
      "Nodes:  2995\n",
      "Edges:  19311.0\n",
      "Features:  2879\n",
      "Number of classes: 7\n",
      "Overall assortativity: 0.845333094234735\n"
     ]
    },
    {
     "output_type": "display_data",
     "data": {
      "text/plain": "HBox(children=(HTML(value=''), FloatProgress(value=0.0, max=3000.0), HTML(value='')))",
      "application/vnd.jupyter.widget-view+json": {
       "version_major": 2,
       "version_minor": 0,
       "model_id": "2508d9a5b39d4909adc7142e88dc9f58"
      }
     },
     "metadata": {}
    },
    {
     "output_type": "stream",
     "name": "stderr",
     "text": [
      "INFO:root:Theor. edge prob to deg k: [0.833 0.705 0.604 0.524 0.458 0.404 0.359 0.322 0.289 0.262]\n",
      "INFO:root:Empir. edge prob to deg k: [0.814 0.733 0.589 0.489 0.438 0.471 0.396 0.333 0.336 0.272]\n",
      "INFO:root:Snapshot: (2141/4910)=0.436\t Overall: 0.436\n",
      "INFO:root:Max node degree: 116\n",
      "INFO:root:Theor. edge prob to deg k: [0.833 0.705 0.604 0.524 0.458 0.404 0.359 0.322 0.289 0.262]\n",
      "INFO:root:Empir. edge prob to deg k: [0.851 0.715 0.618 0.5   0.439 0.413 0.347 0.297 0.293 0.262]\n",
      "INFO:root:Snapshot: (2336/5000)=0.467\t Overall: 0.452\n",
      "INFO:root:Max node degree: 155\n",
      "INFO:root:Theor. edge prob to deg k: [0.833 0.705 0.604 0.524 0.458 0.404 0.359 0.322 0.289 0.262]\n",
      "INFO:root:Empir. edge prob to deg k: [0.841 0.71  0.63  0.545 0.427 0.407 0.344 0.303 0.286 0.247]\n",
      "INFO:root:Snapshot: (2402/5000)=0.480\t Overall: 0.461\n",
      "INFO:root:Max node degree: 179\n",
      "INFO:root:Theor. edge prob to deg k: [0.833 0.705 0.604 0.524 0.458 0.404 0.359 0.322 0.289 0.262]\n",
      "INFO:root:Empir. edge prob to deg k: [0.84  0.698 0.635 0.549 0.446 0.404 0.351 0.307 0.276 0.24 ]\n",
      "INFO:root:Snapshot: (2368/5000)=0.474\t Overall: 0.464\n",
      "INFO:root:Max node degree: 205\n",
      "INFO:root:Theor. edge prob to deg k: [0.833 0.705 0.604 0.524 0.458 0.404 0.359 0.322 0.289 0.262]\n",
      "INFO:root:Empir. edge prob to deg k: [0.833 0.694 0.636 0.552 0.456 0.403 0.355 0.313 0.281 0.235]\n",
      "INFO:root:Snapshot: (2430/5000)=0.486\t Overall: 0.469\n",
      "INFO:root:Max node degree: 220\n",
      "\n",
      "Generated feature matrix of shape: (3000, 7)\n",
      "Creation of the directory results/cabam/cora_ml/ failed\n",
      "Creation of the directory results/cabam/cora_ml/ failed\n",
      "Loading dataset pubmed\n",
      "Nodes:  19717\n",
      "Edges:  108365\n",
      "Features:  500\n",
      "Number of classes: 3\n",
      "Overall assortativity: 0.8632282444059275\n"
     ]
    },
    {
     "output_type": "display_data",
     "data": {
      "text/plain": "HBox(children=(HTML(value=''), FloatProgress(value=0.0, max=3000.0), HTML(value='')))",
      "application/vnd.jupyter.widget-view+json": {
       "version_major": 2,
       "version_minor": 0,
       "model_id": "641b07b0c6f24ba58fe5ea34d6cb2579"
      }
     },
     "metadata": {}
    },
    {
     "output_type": "stream",
     "name": "stderr",
     "text": [
      "INFO:root:Theor. edge prob to deg k: [0.833 0.705 0.604 0.524 0.458 0.404 0.359 0.322 0.289 0.262]\n",
      "INFO:root:Empir. edge prob to deg k: [0.812 0.76  0.617 0.585 0.483 0.385 0.382 0.346 0.304 0.24 ]\n",
      "INFO:root:Snapshot: (3618/4910)=0.737\t Overall: 0.737\n",
      "INFO:root:Max node degree: 92\n",
      "INFO:root:Theor. edge prob to deg k: [0.833 0.705 0.604 0.524 0.458 0.404 0.359 0.322 0.289 0.262]\n",
      "INFO:root:Empir. edge prob to deg k: [0.807 0.729 0.604 0.555 0.46  0.383 0.377 0.348 0.329 0.274]\n",
      "INFO:root:Snapshot: (3800/5000)=0.760\t Overall: 0.749\n",
      "INFO:root:Max node degree: 125\n",
      "INFO:root:Theor. edge prob to deg k: [0.833 0.705 0.604 0.524 0.458 0.404 0.359 0.322 0.289 0.262]\n",
      "INFO:root:Empir. edge prob to deg k: [0.814 0.735 0.583 0.547 0.446 0.392 0.372 0.328 0.294 0.265]\n",
      "INFO:root:Snapshot: (3793/5000)=0.759\t Overall: 0.752\n",
      "INFO:root:Max node degree: 153\n",
      "INFO:root:Theor. edge prob to deg k: [0.833 0.705 0.604 0.524 0.458 0.404 0.359 0.322 0.289 0.262]\n",
      "INFO:root:Empir. edge prob to deg k: [0.82  0.727 0.59  0.539 0.44  0.404 0.373 0.323 0.288 0.253]\n",
      "INFO:root:Snapshot: (3813/5000)=0.763\t Overall: 0.755\n",
      "INFO:root:Max node degree: 177\n",
      "INFO:root:Theor. edge prob to deg k: [0.833 0.705 0.604 0.524 0.458 0.404 0.359 0.322 0.289 0.262]\n",
      "INFO:root:Empir. edge prob to deg k: [0.832 0.714 0.595 0.541 0.428 0.4   0.37  0.329 0.291 0.253]\n",
      "INFO:root:Snapshot: (3763/5000)=0.753\t Overall: 0.754\n",
      "INFO:root:Max node degree: 207\n",
      "\n",
      "Generated feature matrix of shape: (3000, 3)\n",
      "Creation of the directory results/cabam/pubmed/ failed\n",
      "Creation of the directory results/cabam/pubmed/ failed\n"
     ]
    }
   ],
   "source": [
    "for dataset in ['polblogs', 'citeseer', 'cora', 'cora_ml', 'pubmed']:\n",
    "\n",
    "    # load data\n",
    "    A, H, y, G, c, assortativity = cabam_load_data(dataset)\n",
    "\n",
    "    # plot initial graph summary\n",
    "    #cabam_plot_summary(A, y, G, c, dataset)\n",
    "\n",
    "    # generate topology\n",
    "    G_new, y_new = cabam_generate_graph(c, 3000, assortativity)\n",
    "\n",
    "    # generate features\n",
    "    H_new = cabam_generate_features(c, G_new, y_new)\n",
    "\n",
    "    # plot generated graph summary\n",
    "    #cabam_plot_summary(nx.to_numpy_array(G_new), y_new, G_new, c, f'{dataset} generated')\n",
    "\n",
    "    # Save the results\n",
    "    p_utils.save_graph(G_new, RESULT_PATH + f'{dataset}/', 'G.csv')\n",
    "    p_utils.save_fetures(H_new, RESULT_PATH + f'{dataset}/', 'Features.csv')"
   ]
  },
  {
   "cell_type": "code",
   "execution_count": 8,
   "metadata": {},
   "outputs": [],
   "source": [
    "tree = nx.read_adjlist('data/synthetic/tree.csv')\n",
    "y_tree = [0, 1, 1, 1, 2, 2, 2, 2, 2, 2]\n",
    "A_tree = nx.to_numpy_array(tree)\n",
    "c_tree = 3\n",
    "probs_tree = [2/3, 1/6, 1/6]"
   ]
  },
  {
   "cell_type": "code",
   "execution_count": 9,
   "metadata": {},
   "outputs": [
    {
     "output_type": "stream",
     "name": "stdout",
     "text": [
      "[nan nan nan nan nan nan nan nan nan  1.]\n",
      "nan\n",
      "/Users/andrejantonov/Google Диск/Учеба/НИР, Антонов Андрей, J4133c/Experiments/methods/cabam/graph_summary_utils.py:28: RuntimeWarning: invalid value encountered in double_scalars\n",
      "  assortativity = np.sum(neighbor_labels) / len(neighbor_labels)\n",
      "/Users/andrejantonov/Google Диск/Учеба/НИР, Антонов Андрей, J4133c/Experiments/methods/cabam/graph_summary_utils.py:37: RuntimeWarning: divide by zero encountered in log10\n",
      "  deg_bins = np.logspace(np.log10(min(degs)), np.log10(max(degs)+1), bins)\n",
      "/Users/andrejantonov/opt/anaconda3/lib/python3.8/site-packages/numpy/core/function_base.py:144: RuntimeWarning: invalid value encountered in multiply\n",
      "  y *= step\n",
      "/Users/andrejantonov/opt/anaconda3/lib/python3.8/site-packages/numpy/core/function_base.py:154: RuntimeWarning: invalid value encountered in add\n",
      "  y += start\n"
     ]
    },
    {
     "output_type": "error",
     "ename": "ValueError",
     "evalue": "cannot convert float NaN to integer",
     "traceback": [
      "\u001b[0;31m---------------------------------------------------------------------------\u001b[0m",
      "\u001b[0;31mValueError\u001b[0m                                Traceback (most recent call last)",
      "\u001b[0;32m<ipython-input-9-19a27d38e498>\u001b[0m in \u001b[0;36m<module>\u001b[0;34m\u001b[0m\n\u001b[0;32m----> 1\u001b[0;31m \u001b[0mcabam_plot_summary\u001b[0m\u001b[0;34m(\u001b[0m\u001b[0mA_tree\u001b[0m\u001b[0;34m,\u001b[0m \u001b[0my_tree\u001b[0m\u001b[0;34m,\u001b[0m \u001b[0mtree\u001b[0m\u001b[0;34m,\u001b[0m \u001b[0;36m3\u001b[0m\u001b[0;34m,\u001b[0m \u001b[0;34m'Tree'\u001b[0m\u001b[0;34m)\u001b[0m\u001b[0;34m\u001b[0m\u001b[0;34m\u001b[0m\u001b[0m\n\u001b[0m",
      "\u001b[0;32m<ipython-input-4-1c8fc52e1125>\u001b[0m in \u001b[0;36mcabam_plot_summary\u001b[0;34m(A, y, G, c, dataset_name)\u001b[0m\n\u001b[1;32m      1\u001b[0m \u001b[0;32mdef\u001b[0m \u001b[0mcabam_plot_summary\u001b[0m\u001b[0;34m(\u001b[0m\u001b[0mA\u001b[0m\u001b[0;34m,\u001b[0m \u001b[0my\u001b[0m\u001b[0;34m,\u001b[0m \u001b[0mG\u001b[0m\u001b[0;34m,\u001b[0m \u001b[0mc\u001b[0m\u001b[0;34m,\u001b[0m \u001b[0mdataset_name\u001b[0m\u001b[0;34m)\u001b[0m\u001b[0;34m:\u001b[0m\u001b[0;34m\u001b[0m\u001b[0;34m\u001b[0m\u001b[0m\n\u001b[1;32m      2\u001b[0m   \u001b[0;31m# generate boxplot of assortativity vs. degree\u001b[0m\u001b[0;34m\u001b[0m\u001b[0;34m\u001b[0m\u001b[0;34m\u001b[0m\u001b[0m\n\u001b[0;32m----> 3\u001b[0;31m   \u001b[0mdegs\u001b[0m\u001b[0;34m,\u001b[0m \u001b[0massortativities\u001b[0m \u001b[0;34m=\u001b[0m \u001b[0mplot_degree_label_assortativity\u001b[0m\u001b[0;34m(\u001b[0m\u001b[0mG\u001b[0m\u001b[0;34m,\u001b[0m \u001b[0my\u001b[0m\u001b[0;34m,\u001b[0m \u001b[0mbins\u001b[0m\u001b[0;34m=\u001b[0m\u001b[0;36m10\u001b[0m\u001b[0;34m,\u001b[0m \u001b[0mdataset\u001b[0m\u001b[0;34m=\u001b[0m\u001b[0mdataset_name\u001b[0m\u001b[0;34m)\u001b[0m\u001b[0;34m\u001b[0m\u001b[0;34m\u001b[0m\u001b[0m\n\u001b[0m\u001b[1;32m      4\u001b[0m \u001b[0;34m\u001b[0m\u001b[0m\n\u001b[1;32m      5\u001b[0m   \u001b[0;31m# generate overall assortativity statistic\u001b[0m\u001b[0;34m\u001b[0m\u001b[0;34m\u001b[0m\u001b[0;34m\u001b[0m\u001b[0m\n",
      "\u001b[0;32m~/Google Диск/Учеба/НИР, Антонов Андрей, J4133c/Experiments/methods/cabam/graph_summary_utils.py\u001b[0m in \u001b[0;36mplot_degree_label_assortativity\u001b[0;34m(G, y, dataset, bins)\u001b[0m\n\u001b[1;32m     40\u001b[0m         \u001b[0mprint\u001b[0m\u001b[0;34m(\u001b[0m\u001b[0mdeg_end\u001b[0m\u001b[0;34m)\u001b[0m\u001b[0;34m\u001b[0m\u001b[0;34m\u001b[0m\u001b[0m\n\u001b[1;32m     41\u001b[0m         \u001b[0mboxplot_arrs\u001b[0m\u001b[0;34m.\u001b[0m\u001b[0mappend\u001b[0m\u001b[0;34m(\u001b[0m\u001b[0massortativities\u001b[0m\u001b[0;34m[\u001b[0m\u001b[0;34m(\u001b[0m\u001b[0mdegs\u001b[0m \u001b[0;34m>=\u001b[0m \u001b[0mdeg_st\u001b[0m\u001b[0;34m)\u001b[0m \u001b[0;34m&\u001b[0m \u001b[0;34m(\u001b[0m\u001b[0mdegs\u001b[0m \u001b[0;34m<\u001b[0m \u001b[0mdeg_end\u001b[0m\u001b[0;34m)\u001b[0m\u001b[0;34m]\u001b[0m\u001b[0;34m)\u001b[0m\u001b[0;34m\u001b[0m\u001b[0;34m\u001b[0m\u001b[0m\n\u001b[0;32m---> 42\u001b[0;31m         \u001b[0mboxplot_labels\u001b[0m\u001b[0;34m.\u001b[0m\u001b[0mappend\u001b[0m\u001b[0;34m(\u001b[0m\u001b[0;34m'{}'\u001b[0m\u001b[0;34m.\u001b[0m\u001b[0mformat\u001b[0m\u001b[0;34m(\u001b[0m\u001b[0mint\u001b[0m\u001b[0;34m(\u001b[0m\u001b[0mdeg_end\u001b[0m\u001b[0;34m)\u001b[0m\u001b[0;34m)\u001b[0m\u001b[0;34m)\u001b[0m\u001b[0;34m\u001b[0m\u001b[0;34m\u001b[0m\u001b[0m\n\u001b[0m\u001b[1;32m     43\u001b[0m \u001b[0;34m\u001b[0m\u001b[0m\n\u001b[1;32m     44\u001b[0m     \u001b[0mplt\u001b[0m\u001b[0;34m.\u001b[0m\u001b[0mfigure\u001b[0m\u001b[0;34m(\u001b[0m\u001b[0;34m)\u001b[0m\u001b[0;34m\u001b[0m\u001b[0;34m\u001b[0m\u001b[0m\n",
      "\u001b[0;31mValueError\u001b[0m: cannot convert float NaN to integer"
     ]
    }
   ],
   "source": [
    "cabam_plot_summary(A_tree, y_tree, tree, 3, 'Tree')"
   ]
  },
  {
   "cell_type": "code",
   "execution_count": 52,
   "metadata": {},
   "outputs": [
    {
     "output_type": "display_data",
     "data": {
      "text/plain": "HBox(children=(HTML(value=''), FloatProgress(value=0.0, max=10.0), HTML(value='')))",
      "application/vnd.jupyter.widget-view+json": {
       "version_major": 2,
       "version_minor": 0,
       "model_id": "6f90c677895d4f7d81694ddee4a90a0f"
      }
     },
     "metadata": {}
    },
    {
     "output_type": "stream",
     "name": "stdout",
     "text": [
      "\n"
     ]
    }
   ],
   "source": [
    "# generate topology\n",
    "tree_new, y_tree_new = cabam_generate_graph(c_tree, 10, 0.9)"
   ]
  },
  {
   "cell_type": "code",
   "execution_count": 53,
   "metadata": {},
   "outputs": [
    {
     "output_type": "stream",
     "name": "stdout",
     "text": [
      "{0: 'red', 1: 'green', 2: 'blue', 3: 'yellow', 4: 'purple', 5: 'black', 6: 'orange'}\n"
     ]
    },
    {
     "output_type": "display_data",
     "data": {
      "text/plain": "<Figure size 432x288 with 1 Axes>",
      "image/svg+xml": "<?xml version=\"1.0\" encoding=\"utf-8\" standalone=\"no\"?>\n<!DOCTYPE svg PUBLIC \"-//W3C//DTD SVG 1.1//EN\"\n  \"http://www.w3.org/Graphics/SVG/1.1/DTD/svg11.dtd\">\n<svg height=\"302.4pt\" version=\"1.1\" viewBox=\"0 0 446.4 302.4\" width=\"446.4pt\" xmlns=\"http://www.w3.org/2000/svg\" xmlns:xlink=\"http://www.w3.org/1999/xlink\">\n <metadata>\n  <rdf:RDF xmlns:cc=\"http://creativecommons.org/ns#\" xmlns:dc=\"http://purl.org/dc/elements/1.1/\" xmlns:rdf=\"http://www.w3.org/1999/02/22-rdf-syntax-ns#\">\n   <cc:Work>\n    <dc:type rdf:resource=\"http://purl.org/dc/dcmitype/StillImage\"/>\n    <dc:date>2021-04-11T13:38:50.514982</dc:date>\n    <dc:format>image/svg+xml</dc:format>\n    <dc:creator>\n     <cc:Agent>\n      <dc:title>Matplotlib v3.4.1, https://matplotlib.org/</dc:title>\n     </cc:Agent>\n    </dc:creator>\n   </cc:Work>\n  </rdf:RDF>\n </metadata>\n <defs>\n  <style type=\"text/css\">*{stroke-linecap:butt;stroke-linejoin:round;}</style>\n </defs>\n <g id=\"figure_1\">\n  <g id=\"patch_1\">\n   <path d=\"M 0 302.4 \nL 446.4 302.4 \nL 446.4 0 \nL 0 0 \nz\n\" style=\"fill:#ffffff;\"/>\n  </g>\n  <g id=\"axes_1\">\n   <g id=\"PathCollection_1\">\n    <defs>\n     <path d=\"M 0 3.535534 \nC 0.937635 3.535534 1.836992 3.163008 2.5 2.5 \nC 3.163008 1.836992 3.535534 0.937635 3.535534 -0 \nC 3.535534 -0.937635 3.163008 -1.836992 2.5 -2.5 \nC 1.836992 -3.163008 0.937635 -3.535534 0 -3.535534 \nC -0.937635 -3.535534 -1.836992 -3.163008 -2.5 -2.5 \nC -3.163008 -1.836992 -3.535534 -0.937635 -3.535534 0 \nC -3.535534 0.937635 -3.163008 1.836992 -2.5 2.5 \nC -1.836992 3.163008 -0.937635 3.535534 0 3.535534 \nz\n\" id=\"C0_0_fb9b020d78\"/>\n    </defs>\n    <g clip-path=\"url(#p3b504b8dd4)\">\n     <use style=\"fill:#0000ff;stroke:#0000ff;\" x=\"419.563636\" xlink:href=\"#C0_0_fb9b020d78\" y=\"151.200002\"/>\n    </g>\n    <g clip-path=\"url(#p3b504b8dd4)\">\n     <use style=\"fill:#0000ff;stroke:#0000ff;\" x=\"382.061519\" xlink:href=\"#C0_0_fb9b020d78\" y=\"70.293735\"/>\n    </g>\n    <g clip-path=\"url(#p3b504b8dd4)\">\n     <use style=\"fill:#0000ff;stroke:#0000ff;\" x=\"283.879697\" xlink:href=\"#C0_0_fb9b020d78\" y=\"20.290909\"/>\n    </g>\n    <g clip-path=\"url(#p3b504b8dd4)\">\n     <use style=\"fill:#ff0000;stroke:#ff0000;\" x=\"162.520294\" xlink:href=\"#C0_0_fb9b020d78\" y=\"20.290917\"/>\n    </g>\n    <g clip-path=\"url(#p3b504b8dd4)\">\n     <use style=\"fill:#ff0000;stroke:#ff0000;\" x=\"64.338478\" xlink:href=\"#C0_0_fb9b020d78\" y=\"70.293737\"/>\n    </g>\n    <g clip-path=\"url(#p3b504b8dd4)\">\n     <use style=\"fill:#008000;stroke:#008000;\" x=\"26.836364\" xlink:href=\"#C0_0_fb9b020d78\" y=\"151.20001\"/>\n    </g>\n    <g clip-path=\"url(#p3b504b8dd4)\">\n     <use style=\"fill:#008000;stroke:#008000;\" x=\"64.338489\" xlink:href=\"#C0_0_fb9b020d78\" y=\"232.106273\"/>\n    </g>\n    <g clip-path=\"url(#p3b504b8dd4)\">\n     <use style=\"fill:#008000;stroke:#008000;\" x=\"162.520289\" xlink:href=\"#C0_0_fb9b020d78\" y=\"282.109091\"/>\n    </g>\n    <g clip-path=\"url(#p3b504b8dd4)\">\n     <use style=\"fill:#008000;stroke:#008000;\" x=\"283.879714\" xlink:href=\"#C0_0_fb9b020d78\" y=\"282.10909\"/>\n    </g>\n    <g clip-path=\"url(#p3b504b8dd4)\">\n     <use style=\"fill:#0000ff;stroke:#0000ff;\" x=\"382.061513\" xlink:href=\"#C0_0_fb9b020d78\" y=\"232.106272\"/>\n    </g>\n   </g>\n  </g>\n </g>\n <defs>\n  <clipPath id=\"p3b504b8dd4\">\n   <rect height=\"288\" width=\"432\" x=\"7.2\" y=\"7.2\"/>\n  </clipPath>\n </defs>\n</svg>\n",
      "image/png": "[encoded data removed]"
     },
     "metadata": {}
    }
   ],
   "source": [
    "draw_network_with_labels(tree_new, y_tree_new)"
   ]
  },
  {
   "cell_type": "code",
   "execution_count": null,
   "metadata": {},
   "outputs": [],
   "source": []
  }
 ]
}